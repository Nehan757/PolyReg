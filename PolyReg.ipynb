{
 "cells": [
  {
   "attachments": {},
   "cell_type": "markdown",
   "metadata": {},
   "source": [
    "After plotting gaph b/w the D.v and I.v we found that the graph looks like y=x^4\n",
    "\n",
    "here we are using all the data as training set bcz we want the best possible answer of salary offered at 6.5 position"
   ]
  },
  {
   "cell_type": "code",
   "execution_count": 2,
   "metadata": {},
   "outputs": [],
   "source": [
    "import pandas as pd\n",
    "import numpy as np \n",
    "import matplotlib.pyplot as plt"
   ]
  },
  {
   "cell_type": "code",
   "execution_count": 4,
   "metadata": {},
   "outputs": [
    {
     "name": "stdout",
     "output_type": "stream",
     "text": [
      "[[ 1]\n",
      " [ 2]\n",
      " [ 3]\n",
      " [ 4]\n",
      " [ 5]\n",
      " [ 6]\n",
      " [ 7]\n",
      " [ 8]\n",
      " [ 9]\n",
      " [10]]\n",
      "[  45000   50000   60000   80000  110000  150000  200000  300000  500000\n",
      " 1000000]\n"
     ]
    }
   ],
   "source": [
    "df = pd.read_csv(\"Position_Salaries.csv\")\n",
    "x = df.iloc[:,1:-1].values\n",
    "# x = x.reshape(1,10)  # since linReg fn takes only 2d array(y = b + b1x^1) as input for D.V \n",
    "# x = x.transpose()    \n",
    "y = df.iloc[:,-1].values\n",
    "print(x)\n",
    "print(y)\n"
   ]
  },
  {
   "cell_type": "code",
   "execution_count": null,
   "metadata": {},
   "outputs": [],
   "source": [
    "# linear regression\n",
    "from sklearn.linear_model import LinearRegression\n",
    "lreg = LinearRegression()  # y = b + b1x^1\n",
    "lreg.fit(x,y)"
   ]
  },
  {
   "cell_type": "code",
   "execution_count": null,
   "metadata": {},
   "outputs": [],
   "source": [
    "# polynomial regression\n",
    "from sklearn.preprocessing import PolynomialFeatures\n",
    "\n",
    "preg=PolynomialFeatures(degree=4) # y = b + b1x^1 + b2x^2 + b3x^3 + b4x^4\n",
    "xp = preg.fit_transform(x)  #fit transform is used bcz multiple columns are there\n",
    "print(xp)\n",
    "\n",
    "lreg2 = LinearRegression()\n",
    "lreg2.fit(xp,y)  # applying linReg to all those columns\n",
    "print(x)\n",
    "\n",
    "#now we can say that we have 5 I.V columns derived from 1 I.V only\n",
    "\n",
    "\n",
    "\n",
    "\n"
   ]
  },
  {
   "cell_type": "code",
   "execution_count": null,
   "metadata": {},
   "outputs": [],
   "source": [
    "plt.scatter(x,y)\n",
    "plt.plot(x,lreg.predict(x))\n",
    "\n",
    "plt.show()"
   ]
  },
  {
   "cell_type": "code",
   "execution_count": null,
   "metadata": {},
   "outputs": [],
   "source": [
    "plt.scatter(x,y)\n",
    "plt.plot(x,lreg2.predict(preg.fit_transform(x)))\n",
    "\n",
    "plt.show()\n",
    "\n",
    "# In graph we can observe that the there is no smooth curve but many lines \n",
    "# b/w each pair of points "
   ]
  },
  {
   "cell_type": "code",
   "execution_count": null,
   "metadata": {},
   "outputs": [],
   "source": [
    "#SMOOTHER CURVE by increasing sampling rate on x-axis\n",
    "x_grid = np.arange(min(x), max(x), 0.1)\n",
    "x_grid = x_grid.reshape(len(x_grid),1)\n",
    "\n",
    "plt.scatter(x,y)\n",
    "plt.plot(x_grid, lreg2.predict(preg.fit_transform(x_grid)), color = 'blue')\n",
    "\n",
    "\n",
    "\n"
   ]
  },
  {
   "cell_type": "code",
   "execution_count": 66,
   "metadata": {},
   "outputs": [
    {
     "name": "stdout",
     "output_type": "stream",
     "text": [
      "[330378.78787879]\n"
     ]
    }
   ],
   "source": [
    "# checking truth or bluff from L.R\n",
    "print(lreg.predict([[6.5]]))"
   ]
  },
  {
   "cell_type": "code",
   "execution_count": 73,
   "metadata": {},
   "outputs": [
    {
     "name": "stdout",
     "output_type": "stream",
     "text": [
      "[158862.45265155]\n"
     ]
    }
   ],
   "source": [
    "# checking truth or bluff from P.R\n",
    "print(lreg2.predict(preg.fit_transform([[6.5]])))"
   ]
  }
 ],
 "metadata": {
  "kernelspec": {
   "display_name": "Python 3",
   "language": "python",
   "name": "python3"
  },
  "language_info": {
   "codemirror_mode": {
    "name": "ipython",
    "version": 3
   },
   "file_extension": ".py",
   "mimetype": "text/x-python",
   "name": "python",
   "nbconvert_exporter": "python",
   "pygments_lexer": "ipython3",
   "version": "3.11.3"
  },
  "orig_nbformat": 4
 },
 "nbformat": 4,
 "nbformat_minor": 2
}
